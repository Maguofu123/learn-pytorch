{
 "cells": [
  {
   "cell_type": "code",
   "execution_count": 83,
   "id": "f0477d79",
   "metadata": {},
   "outputs": [
    {
     "name": "stdout",
     "output_type": "stream",
     "text": [
      "tensor(4.)\n",
      "tensor([4., 4., 4.])\n",
      "tensor([[4., 4., 4., 4., 4.],\n",
      "        [4., 4., 4., 4., 4.],\n",
      "        [4., 4., 4., 4., 4.]])\n",
      "tensor(3.4641)\n",
      "tensor([[[ 0.,  1.,  2.,  3.],\n",
      "         [ 4.,  5.,  6.,  7.],\n",
      "         [ 8.,  9., 10., 11.]],\n",
      "\n",
      "        [[12., 13., 14., 15.],\n",
      "         [16., 17., 18., 19.],\n",
      "         [20., 21., 22., 23.]]]) tensor([60., 66., 72., 78.])\n"
     ]
    }
   ],
   "source": [
    "import torch\n",
    "\n",
    "a = torch.arange(24, dtype = torch.float32).reshape(2, 3, 4)\n",
    "b = torch.arange(6, dtype = torch.float32).reshape(1, 2, 3)\n",
    "c = a.clone()\n",
    "\n",
    "#print(a, '\\n', a.sum(), '\\n', a.sum(axis = 0), '\\n', a.sum(axis = 1), '\\n', a.sum(axis = 2))\n",
    "#print(a.mean(),'\\n', a.mean(axis =0), '\\n', a.mean(axis =1), '\\n', a.mean(axis =2))\n",
    "#print(a.size() == a.shape)\n",
    "#print(a.mean(axis =1, keepdims = True),a.mean(axis =1))\n",
    "#a, a.cumsum(axis = 1)\n",
    "a0 = torch.ones(4)\n",
    "b0 = torch.ones_like(a0)\n",
    "print(torch.dot(a0, b0))\n",
    "\n",
    "A = torch.ones(3, 4)\n",
    "B = torch.ones(4, 5)\n",
    "print(torch.mv(A, a0))\n",
    "print(torch.mm(A, B))\n",
    "\n",
    "print(torch.norm(A)) #F范数\n",
    "print(a, a.sum(axis = [0, 1]))"
   ]
  }
 ],
 "metadata": {
  "kernelspec": {
   "display_name": "Python [conda env:dl] *",
   "language": "python",
   "name": "conda-env-dl-py"
  },
  "language_info": {
   "codemirror_mode": {
    "name": "ipython",
    "version": 3
   },
   "file_extension": ".py",
   "mimetype": "text/x-python",
   "name": "python",
   "nbconvert_exporter": "python",
   "pygments_lexer": "ipython3",
   "version": "3.8.12"
  }
 },
 "nbformat": 4,
 "nbformat_minor": 5
}
