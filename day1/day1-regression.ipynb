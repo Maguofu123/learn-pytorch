{
 "cells": [
  {
   "cell_type": "code",
   "execution_count": 77,
   "id": "17e33a07",
   "metadata": {},
   "outputs": [
    {
     "name": "stdout",
     "output_type": "stream",
     "text": [
      "6.6787098624\n",
      "4.355973186144437\n",
      "2.8410430740871875\n",
      "1.8529787498446597\n",
      "1.2085456495512839\n",
      "0.7882349364080832\n",
      "0.5141008245778224\n",
      "0.33530568822030044\n",
      "0.21869232488630266\n",
      "0.1426350182665365\n",
      "0.09302909211135947\n",
      "0.06067522607170446\n",
      "0.039573460035980716\n",
      "0.025810513460116855\n",
      "0.016834075273407276\n",
      "0.010979482866493053\n",
      "0.007161013721142483\n",
      "0.004670540328532819\n",
      "0.0030462093510653173\n",
      "0.001986791839442883\n",
      "0.0012958209231077231\n",
      "0.0008451574198304201\n",
      "0.0005512266792091941\n",
      "0.00035951982996604217\n",
      "0.00023448521817605084\n",
      "0.00015293542375189342\n",
      "9.974719950411206e-05\n",
      "6.50568950268491e-05\n",
      "4.243126234696169e-05\n",
      "2.7674422881911427e-05\n",
      "1.804975010132912e-05\n",
      "1.1772367579654284e-05\n",
      "7.67814721269723e-06\n",
      "5.007823976015193e-06\n",
      "3.2661917361109163e-06\n",
      "2.1302682578577705e-06\n",
      "1.3893987913390492e-06\n",
      "9.061905674340267e-07\n",
      "5.91033582024952e-07\n",
      "3.8548259895310967e-07\n",
      "2.514185972082512e-07\n",
      "1.6397967429307697e-07\n",
      "1.0695045585314026e-07\n",
      "6.975498674754488e-08\n",
      "4.549544120509178e-08\n",
      "2.9672934752917984e-08\n",
      "1.9353215037091408e-08\n",
      "1.26225105602735e-08\n",
      "8.232625563285325e-09\n",
      "5.369464603819188e-09\n",
      "3.5020601762908177e-09\n",
      "2.284105843563076e-09\n",
      "1.4897343968855973e-09\n",
      "9.716312313327294e-10\n",
      "6.33715145231379e-10\n",
      "4.1332027249552826e-10\n",
      "2.6957482228158736e-10\n",
      "1.758214867313603e-10\n",
      "1.1467389624585044e-10\n",
      "7.479235173350843e-11\n",
      "4.8780900114386756e-11\n",
      "3.181576940272538e-11\n",
      "2.075080984834151e-11\n",
      "1.3534046718522066e-11\n",
      "8.827145635681292e-12\n",
      "5.757221150686309e-12\n",
      "3.754961883006128e-12\n",
      "2.449052830469357e-12\n",
      "1.5973157501234216e-12\n",
      "1.0417977002156142e-12\n",
      "6.794789621671721e-13\n",
      "4.4316824671682884e-13\n",
      "2.890422012951995e-13\n",
      "1.8851845674708168e-13\n",
      "1.2295508568786516e-13\n",
      "8.019349033244575e-14\n",
      "5.230361870472488e-14\n",
      "3.411334904057128e-14\n",
      "2.2249331945397955e-14\n",
      "1.451140958963258e-14\n",
      "9.46459898731369e-15\n",
      "6.172979544238849e-15\n",
      "4.026126943456652e-15\n",
      "2.625911486793414e-15\n",
      "1.7126661444196563e-15\n",
      "1.1170312781270571e-15\n",
      "7.285476440307064e-16\n",
      "4.75171739957145e-16\n",
      "3.099154397345139e-16\n",
      "2.021323581116622e-16\n",
      "1.3183430213197588e-16\n",
      "8.598467066862362e-17\n",
      "5.608073634076438e-17\n",
      "3.657684896423662e-17\n",
      "2.3856073147983822e-17\n",
      "1.5559353640277802e-17\n",
      "1.0148088424333888e-17\n",
      "6.6187638550349785e-18\n",
      "4.316876277380062e-18\n",
      "2.8155419889922115e-18\n",
      "1.031185030644317 0.03326403324659088\n"
     ]
    },
    {
     "data": {
      "image/png": "[encoded data removed]",
      "text/plain": [
       "<Figure size 432x288 with 1 Axes>"
      ]
     },
     "metadata": {
      "needs_background": "light"
     },
     "output_type": "display_data"
    }
   ],
   "source": [
    "import numpy as np\n",
    "import matplotlib.pyplot as plt\n",
    "\n",
    "def lossfunction(w, b, points):\n",
    "    for i in range(len(points)):\n",
    "        x = points[i, 0]\n",
    "        y = points[i, 1]\n",
    "        loss = ((w * x) + b - y) ** 2\n",
    "    return loss / len(points)\n",
    "\n",
    "def compute_update_gradient(w, b, points, lr):\n",
    "    for i in range(len(points)):\n",
    "        x = points[i, 0]\n",
    "        y = points[i, 1] \n",
    "        w_grad = -(2 * (y - (w * x + b)) * x) / float(len(points))\n",
    "        b_grad = -(2 * (y - (w * x + b))) / float(len(points))\n",
    "    new_w = w - w_grad * lr\n",
    "    new_b = b - b_grad * lr\n",
    "    loss = lossfunction(new_w, new_b, points)\n",
    "    print(loss)\n",
    "    return new_w, new_b\n",
    "\n",
    "def start_iteration(w, b, epoch, lr): \n",
    "    for i in range(epoch):\n",
    "        w,b = compute_update_gradient(w, b, points, lr)\n",
    "    return w, b\n",
    "\n",
    "points = np.random.randint(0, 100, (100, 2))\n",
    "epoch = 100\n",
    "w, b = 0, 0\n",
    "lr = 0.01\n",
    "w, b = start_iteration(w, b, epoch, lr)\n",
    "print(w, b)\n",
    "y_pre = w * x + b\n",
    "x = np.linspace(points[:, 0].min(), points[:, 0].max())\n",
    "\n",
    "plt.scatter(points[:, 0], points[:, 1])\n",
    "plt.plot(x, y_pre)\n",
    "plt.show()\n",
    "\n"
   ]
  },
  {
   "cell_type": "code",
   "execution_count": 71,
   "id": "269b774c",
   "metadata": {},
   "outputs": [
    {
     "data": {
      "text/plain": [
       "((50,), (100,))"
      ]
     },
     "execution_count": 71,
     "metadata": {},
     "output_type": "execute_result"
    }
   ],
   "source": [
    "x.shape, y_pre.shape"
   ]
  }
 ],
 "metadata": {
  "kernelspec": {
   "display_name": "Python [conda env:dl] *",
   "language": "python",
   "name": "conda-env-dl-py"
  },
  "language_info": {
   "codemirror_mode": {
    "name": "ipython",
    "version": 3
   },
   "file_extension": ".py",
   "mimetype": "text/x-python",
   "name": "python",
   "nbconvert_exporter": "python",
   "pygments_lexer": "ipython3",
   "version": "3.8.12"
  }
 },
 "nbformat": 4,
 "nbformat_minor": 5
}
