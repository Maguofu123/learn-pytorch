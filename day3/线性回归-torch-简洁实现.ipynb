{
 "cells": [
  {
   "cell_type": "code",
   "execution_count": 225,
   "id": "15766388",
   "metadata": {},
   "outputs": [
    {
     "name": "stdout",
     "output_type": "stream",
     "text": [
      "epoch 1, loss 0.000266\n",
      "epoch 2, loss 0.000095\n",
      "epoch 3, loss 0.000094\n"
     ]
    }
   ],
   "source": [
    "import random\n",
    "import torch\n",
    "import matplotlib.pyplot as plt\n",
    "import numpy as np\n",
    "from torch.utils import data\n",
    "from d2l import torch as d2l\n",
    "from torch import nn\n",
    "\n",
    "\n",
    "true_w = torch.tensor([2, -3.4])\n",
    "true_b = 4.2\n",
    "features, labels = d2l.synthetic_data(true_w, true_b, 1000)\n",
    "\n",
    "#=====包含所有模块=====\n",
    "\n",
    "\n",
    "#数据读取\n",
    "def load_array(data_arrays, batch_size, is_train=True):  \n",
    "    \"\"\"构造一个PyTorch数据迭代器。\"\"\"\n",
    "    dataset = data.TensorDataset(*data_arrays)\n",
    "    return data.DataLoader(dataset, batch_size, shuffle=is_train)\n",
    "\n",
    "batch_size = 10\n",
    "data_iter = load_array((features, labels), batch_size)\n",
    "\n",
    "#定义层\n",
    "net = nn.Sequential(nn.Linear(2, 1))\n",
    "\n",
    "#初始化参数\n",
    "net[0].weight.data.normal_(0, 1)\n",
    "net[0].bias.data.fill_(0)\n",
    "\n",
    "#计算均方误差\n",
    "loss = nn.MSELoss()\n",
    "\n",
    "#SGD算法\n",
    "trainer = torch.optim.SGD(net.parameters(), lr = 0.03)\n",
    "\n",
    "#训练\n",
    "num_epochs = 3\n",
    "for epoch in range(num_epochs):\n",
    "    for X, y in data_iter:#批量进行\n",
    "        l = loss(net(X), y)\n",
    "        trainer.zero_grad()#梯度清零\n",
    "        l.backward()\n",
    "        trainer.step()#模型更新\n",
    "    l = loss(net(features), labels)\n",
    "    print(f'epoch {epoch + 1}, loss {l:f}')\n"
   ]
  }
 ],
 "metadata": {
  "kernelspec": {
   "display_name": "Python [conda env:dl] *",
   "language": "python",
   "name": "conda-env-dl-py"
  },
  "language_info": {
   "codemirror_mode": {
    "name": "ipython",
    "version": 3
   },
   "file_extension": ".py",
   "mimetype": "text/x-python",
   "name": "python",
   "nbconvert_exporter": "python",
   "pygments_lexer": "ipython3",
   "version": "3.8.12"
  }
 },
 "nbformat": 4,
 "nbformat_minor": 5
}
