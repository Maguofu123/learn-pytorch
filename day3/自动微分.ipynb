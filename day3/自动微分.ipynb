{
 "cells": [
  {
   "cell_type": "code",
   "execution_count": 14,
   "id": "de417dc1",
   "metadata": {},
   "outputs": [
    {
     "name": "stdout",
     "output_type": "stream",
     "text": [
      "tensor([ 0.,  4.,  8., 12.])\n",
      "tensor([0., 0., 0., 0.])\n",
      "tensor([1., 1., 1., 1.])\n"
     ]
    },
    {
     "data": {
      "text/plain": [
       "(tensor([0., 1., 4., 9.]), tensor([0., 1., 4., 9.]))"
      ]
     },
     "execution_count": 14,
     "metadata": {},
     "output_type": "execute_result"
    }
   ],
   "source": [
    "import torch\n",
    "\n",
    "x = torch.arange(4, dtype=torch.float32, requires_grad=True)\n",
    "y = 2 * torch.dot(x, x)\n",
    "y.backward()\n",
    "print(x.grad)\n",
    "\n",
    "#清除梯度\n",
    "x.grad.zero_()\n",
    "print(x.grad)\n",
    "\n",
    "y = x.sum()\n",
    "y.backward()\n",
    "print(x.grad)\n",
    "\n",
    "#detach方法固定参数\n",
    "x.grad.zero_()\n",
    "y = x * x\n",
    "u = y.detach()\n",
    "z = u * x\n",
    "\n",
    "z.sum().backward()\n",
    "x.grad, u"
   ]
  }
 ],
 "metadata": {
  "kernelspec": {
   "display_name": "Python [conda env:dl] *",
   "language": "python",
   "name": "conda-env-dl-py"
  },
  "language_info": {
   "codemirror_mode": {
    "name": "ipython",
    "version": 3
   },
   "file_extension": ".py",
   "mimetype": "text/x-python",
   "name": "python",
   "nbconvert_exporter": "python",
   "pygments_lexer": "ipython3",
   "version": "3.8.12"
  }
 },
 "nbformat": 4,
 "nbformat_minor": 5
}
